{
 "cells": [
  {
   "cell_type": "code",
   "execution_count": 2,
   "metadata": {},
   "outputs": [],
   "source": [
    "import sqlite3\n",
    "from sqlite3 import Error\n",
    "from db_functions import create_connection\n",
    "from db_functions import create_table\n",
    "from db_functions import insert_into_table\n",
    "from db_functions import delete_from_table\n",
    "from db_functions import select_all_from_table\n",
    "from db_functions import drop_table\n",
    "from db_functions import select_from_table_scenarios\n",
    "from db_functions import select_from_table_where\n",
    "from db_functions import update_table_where"
   ]
  },
  {
   "cell_type": "markdown",
   "metadata": {},
   "source": [
    "# View available tables in database"
   ]
  },
  {
   "cell_type": "code",
   "execution_count": 3,
   "metadata": {
    "scrolled": true
   },
   "outputs": [
    {
     "name": "stdout",
     "output_type": "stream",
     "text": [
      "[('cases',), ('methods',), ('scenarios',), ('settings',), ('graphreduce',), ('resultreconstruction',), ('rank_methods',), ('noderank',)]\n"
     ]
    }
   ],
   "source": [
    "sql_select_tables = ''' SELECT name FROM sqlite_master WHERE type = 'table'\n",
    "                        AND name NOT LIKE 'sqlite_%'; '''\n",
    "try:\n",
    "    conn = sqlite3.connect(r\"C:\\FaultMap\\pythonsqlite.db\")\n",
    "    cur = conn.cursor()\n",
    "    cur.execute(sql_select_tables)\n",
    "    records = cur.fetchall()\n",
    "    print(records)\n",
    "except Error as e:\n",
    "    print(e)\n",
    "finally:\n",
    "    if conn:\n",
    "        conn.close()"
   ]
  },
  {
   "cell_type": "markdown",
   "metadata": {},
   "source": [
    "# View contents of a specific table"
   ]
  },
  {
   "cell_type": "code",
   "execution_count": 6,
   "metadata": {},
   "outputs": [
    {
     "data": {
      "text/plain": [
       "[[1, 'level_concentration', 1, 1, 1, 0, 1, 0, 0, 0, 0]]"
      ]
     },
     "execution_count": 6,
     "metadata": {},
     "output_type": "execute_result"
    }
   ],
   "source": [
    "sql = ''' SELECT * FROM cases'''\n",
    "\n",
    "select_all_from_table(sql)"
   ]
  },
  {
   "cell_type": "markdown",
   "metadata": {},
   "source": [
    "## extract contents from cases table into disctionary format"
   ]
  },
  {
   "cell_type": "code",
   "execution_count": 7,
   "metadata": {},
   "outputs": [
    {
     "data": {
      "text/plain": [
       "{'mode': 'cases', 'writeoutput': True, 'cases': ['level_concentration']}"
      ]
     },
     "execution_count": 7,
     "metadata": {},
     "output_type": "execute_result"
    }
   ],
   "source": [
    "case_info = select_all_from_table(sql)\n",
    "fullrun_config_new = {'mode':'cases',\n",
    "                      'writeoutput':True,\n",
    "                      'cases':[i[1] for i in case_info]}\n",
    "fullrun_config_new"
   ]
  },
  {
   "cell_type": "markdown",
   "metadata": {},
   "source": [
    "## view scenarios linked to a specific case_id"
   ]
  },
  {
   "cell_type": "code",
   "execution_count": 9,
   "metadata": {
    "scrolled": true
   },
   "outputs": [
    {
     "data": {
      "text/plain": [
       "[[1,\n",
       "  'FB_dist_x_SP_dist_closedloop_100delays_onedirectional_standardised',\n",
       "  1,\n",
       "  'dist_FB_x_setpoint_halfhalf.csv',\n",
       "  10,\n",
       "  'all',\n",
       "  'all',\n",
       "  0,\n",
       "  0,\n",
       "  'design_limits.csv']]"
      ]
     },
     "execution_count": 9,
     "metadata": {},
     "output_type": "execute_result"
    }
   ],
   "source": [
    "sql = ''' SELECT * FROM scenarios WHERE case_id = ?'''\n",
    "case_id = 1\n",
    "scenarios = select_from_table_where(sql,case_id)\n",
    "scenarios"
   ]
  },
  {
   "cell_type": "markdown",
   "metadata": {},
   "source": [
    "## view settings linked to a specific scenario_id"
   ]
  },
  {
   "cell_type": "code",
   "execution_count": 10,
   "metadata": {
    "scrolled": true
   },
   "outputs": [
    {
     "data": {
      "text/plain": [
       "[[1,\n",
       "  'settings_highres_standardised_sigtest_transient',\n",
       "  1,\n",
       "  0,\n",
       "  1,\n",
       "  20,\n",
       "  10,\n",
       "  'standardise',\n",
       "  0,\n",
       "  'datapoints',\n",
       "  0.005,\n",
       "  1,\n",
       "  'seconds',\n",
       "  1800,\n",
       "  100,\n",
       "  1,\n",
       "  'rankorder',\n",
       "  'iAAFT',\n",
       "  0,\n",
       "  0,\n",
       "  30,\n",
       "  0],\n",
       " [2,\n",
       "  'settings_highres_standardised_sigtest_transient2',\n",
       "  1,\n",
       "  0,\n",
       "  1,\n",
       "  20,\n",
       "  10,\n",
       "  'standardise',\n",
       "  0,\n",
       "  'datapoints',\n",
       "  0.005,\n",
       "  1,\n",
       "  'seconds',\n",
       "  1800,\n",
       "  100,\n",
       "  1,\n",
       "  'rankorder',\n",
       "  'iAAFT',\n",
       "  0,\n",
       "  0,\n",
       "  30,\n",
       "  0]]"
      ]
     },
     "execution_count": 10,
     "metadata": {},
     "output_type": "execute_result"
    }
   ],
   "source": [
    "sql = ''' SELECT * FROM settings WHERE scenario_id = ?'''\n",
    "scenario_id = 1\n",
    "settings = select_from_table_where(sql,scenario_id)\n",
    "settings"
   ]
  },
  {
   "cell_type": "markdown",
   "metadata": {},
   "source": [
    "## update methods linked to a specific case_id"
   ]
  },
  {
   "cell_type": "code",
   "execution_count": 11,
   "metadata": {},
   "outputs": [
    {
     "data": {
      "text/plain": [
       "[[1, 1, 0, 1, 0, 0]]"
      ]
     },
     "execution_count": 11,
     "metadata": {},
     "output_type": "execute_result"
    }
   ],
   "source": [
    "sql_update = ''' UPDATE methods SET \n",
    "                    transfer_entropy_kernel = 0, \n",
    "                    transfer_entropy_kraskov = 1,\n",
    "                    cross_correlation = 0,\n",
    "                    partial_correlation = 0\n",
    "                    WHERE case_id = ?\n",
    "                    '''\n",
    "sql_select = ''' SELECT * FROM methods WHERE case_id = ?'''\n",
    "id = 1\n",
    "\n",
    "update_table_where(sql_update,sql_select,id)"
   ]
  },
  {
   "cell_type": "markdown",
   "metadata": {},
   "source": [
    "## update cases table rows linked to a specific case_id"
   ]
  },
  {
   "cell_type": "code",
   "execution_count": 12,
   "metadata": {},
   "outputs": [
    {
     "data": {
      "text/plain": [
       "[[1, 'level_concentration', 1, 1, 1, 0, 1, 0, 0, 0, 0]]"
      ]
     },
     "execution_count": 12,
     "metadata": {},
     "output_type": "execute_result"
    }
   ],
   "source": [
    " sql_update = ''' UPDATE cases SET\n",
    "                    weightcalc            = 0,\n",
    "                    createarrays          = 1, \n",
    "                    trendextraction       = 1,\n",
    "                    noderank              = 1,\n",
    "                    graphreduce           = 1,\n",
    "                    plotting              = 0,\n",
    "                    calc_single_entropies = 0,\n",
    "                    fft_clac              = 0,\n",
    "                    multiprocessing       = 0\n",
    "                    WHERE case_id         = ?\n",
    "                    '''\n",
    "sql_select = ''' SELECT * FROM cases WHERE case_id = ?'''\n",
    "id = 1\n",
    "\n",
    "update_table_where(sql_update,sql_select,id)                           \n"
   ]
  }
 ],
 "metadata": {
  "kernelspec": {
   "display_name": "Python 3",
   "language": "python",
   "name": "python3"
  }
 },
 "nbformat": 4,
 "nbformat_minor": 2
}
